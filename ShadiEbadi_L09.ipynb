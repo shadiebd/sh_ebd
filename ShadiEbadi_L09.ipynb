{
 "cells": [
  {
   "cell_type": "markdown",
   "id": "c58f7794-67b5-473e-adf8-9a7a90a5d446",
   "metadata": {},
   "source": [
    "\n",
    "# Assignment\n",
    "\n",
    "In this assignment, we see how using convolutional neural networks improves our model's accuracy. Recall the fashion MNIST data set from the previous assignment:"
   ]
  },
  {
   "cell_type": "markdown",
   "id": "c77199c2-561b-49c1-bc71-ef7b4a965ab9",
   "metadata": {},
   "source": [
    "We imported the libraries"
   ]
  },
  {
   "cell_type": "code",
   "execution_count": 1,
   "id": "b607e7c3-1d56-4595-80b6-dbba0296bfbd",
   "metadata": {},
   "outputs": [],
   "source": [
    "import numpy as np\n",
    "import matplotlib.pyplot as plt\n",
    "from tensorflow import keras\n",
    "from tensorflow.keras.models import Sequential\n",
    "from tensorflow.keras.layers import Dense, Activation, Flatten, Dropout\n",
    "\n",
    "data = keras.datasets.fashion_mnist\n",
    "(x_train, y_train), (x_test, y_test) = data.load_data()"
   ]
  },
  {
   "cell_type": "markdown",
   "id": "5c47aaed-bb16-42dc-8bb8-b151acc08674",
   "metadata": {},
   "source": [
    "Run the below cell to train a neural network that more or less imitates what a logistic regression classifier would do. "
   ]
  },
  {
   "cell_type": "code",
   "execution_count": 2,
   "id": "ee4c7e57-967e-4fad-be3a-8d6259f49878",
   "metadata": {},
   "outputs": [
    {
     "name": "stderr",
     "output_type": "stream",
     "text": [
      "2023-06-15 04:26:46.668462: I tensorflow/core/platform/cpu_feature_guard.cc:142] This TensorFlow binary is optimized with oneAPI Deep Neural Network Library (oneDNN) to use the following CPU instructions in performance-critical operations:  SSE4.1 SSE4.2 AVX AVX2 FMA\n",
      "To enable them in other operations, rebuild TensorFlow with the appropriate compiler flags.\n",
      "2023-06-15 04:26:46.741069: I tensorflow/compiler/mlir/mlir_graph_optimization_pass.cc:116] None of the MLIR optimization passes are enabled (registered 2)\n",
      "2023-06-15 04:26:46.741759: I tensorflow/core/platform/profile_utils/cpu_utils.cc:112] CPU Frequency: 2200160000 Hz\n"
     ]
    },
    {
     "name": "stdout",
     "output_type": "stream",
     "text": [
      "1875/1875 - 1s - loss: 18.1423 - sparse_categorical_accuracy: 0.8075\n",
      "313/313 - 0s - loss: 21.9740 - sparse_categorical_accuracy: 0.7871\n"
     ]
    },
    {
     "data": {
      "text/plain": [
       "[21.97396469116211, 0.7871000170707703]"
      ]
     },
     "execution_count": 2,
     "metadata": {},
     "output_type": "execute_result"
    }
   ],
   "source": [
    "\n",
    "model = Sequential()\n",
    "model.add(Flatten(input_shape = (28, 28)))\n",
    "model.add(Dense(10, activation = 'sigmoid'))\n",
    "\n",
    "model.compile(\n",
    "    optimizer = keras.optimizers.RMSprop(learning_rate = 1e-3),\n",
    "    loss = keras.losses.SparseCategoricalCrossentropy(),\n",
    "    metrics = [keras.metrics.SparseCategoricalAccuracy()],\n",
    ")\n",
    "\n",
    "model.fit(x_train, y_train, epochs = 20, verbose = 0)\n",
    "\n",
    "model.evaluate(x_train, y_train, verbose = 2)\n",
    "model.evaluate(x_test, y_test, verbose = 2)"
   ]
  },
  {
   "cell_type": "markdown",
   "id": "e7a319ea-cd4f-4042-856e-69bb4304052f",
   "metadata": {},
   "source": [
    "### As we saw in the previous assignment, the above network seems to do a good job at classifying shirts, but not other clothing items. Let's see if we can improve the classifier by using convolutional layers.\n",
    "\n",
    "- Copy the code in the above cell below, then modify the network so the first two layers are a convolution layer with 32 filters followed by a 5x5 max-pooling layer. Also add a dense layer with 32 neurons prior to the output layer. Train the new network for 50 epochs and report the accuracy. <span style=\"color:red\" float:right>[5 point]</span>"
   ]
  },
  {
   "cell_type": "markdown",
   "id": "8ec0ca32-6cd2-469e-9194-404286244b99",
   "metadata": {},
   "source": [
    "we normalized our data and then we defined the model and add the layers.\n",
    "First we reshape the input to be suitable for our modeling and then we add the layers based on the filters and the kernel and the channel is 1 becuase the image is in greyscale"
   ]
  },
  {
   "cell_type": "code",
   "execution_count": 3,
   "id": "3621b341-5f56-49c5-a981-5232ca471150",
   "metadata": {},
   "outputs": [],
   "source": [
    "x_train=x_train.astype('float32')/255.0\n",
    "x_test=x_test.astype('float32')/255.0\n"
   ]
  },
  {
   "cell_type": "code",
   "execution_count": 4,
   "id": "d56860f3-fbd0-4ffb-93c8-ba44f2ce94ef",
   "metadata": {},
   "outputs": [],
   "source": [
    "from keras.layers.convolutional import Conv2D, MaxPooling2D\n",
    "from keras.layers import Conv2D, Dense, Reshape\n"
   ]
  },
  {
   "cell_type": "code",
   "execution_count": 5,
   "id": "6259e6a1-2dac-4dbe-b40f-32e1dbc60852",
   "metadata": {},
   "outputs": [],
   "source": [
    "## your code goes here\n",
    "model_1 = Sequential()\n",
    "model_1.add(Reshape((28, 28, 1), input_shape=(28, 28)))\n",
    "\n",
    "model_1.add(Conv2D(32, (3, 3), input_shape=(28, 28, 1), padding='same', activation='sigmoid'))\n",
    "#model.add(Conv2D(32, (3, 3), activation='sigmoid', padding='valid'))\n",
    "model_1.add(MaxPooling2D(pool_size=(5, 5)))\n",
    "model_1.add(Flatten())\n",
    "model_1.add(Dense(32, activation='relu'))\n",
    "model_1.add(Dense(10, activation = 'sigmoid'))\n",
    "\n"
   ]
  },
  {
   "cell_type": "code",
   "execution_count": 6,
   "id": "0ca0ba84-4af7-41e8-89fe-e6c7c02ed24a",
   "metadata": {},
   "outputs": [],
   "source": [
    "#we definded the metrics.\n",
    "model_1.compile(\n",
    "    optimizer = keras.optimizers.RMSprop(learning_rate = 1e-3),\n",
    "    loss = keras.losses.SparseCategoricalCrossentropy(),\n",
    "    metrics = [keras.metrics.SparseCategoricalAccuracy()],\n",
    ")"
   ]
  },
  {
   "cell_type": "markdown",
   "id": "b1db54f3-c6b3-4d75-92de-97581d0e3bec",
   "metadata": {},
   "source": [
    "we trained the model and printed the results to see the numbers of the parameters."
   ]
  },
  {
   "cell_type": "code",
   "execution_count": 7,
   "id": "49b70bd3-2e98-4239-817e-339fba2b8be8",
   "metadata": {},
   "outputs": [
    {
     "data": {
      "text/plain": [
       "<tensorflow.python.keras.callbacks.History at 0x7ff1e8351fa0>"
      ]
     },
     "execution_count": 7,
     "metadata": {},
     "output_type": "execute_result"
    }
   ],
   "source": [
    "model_1.fit(x_train, y_train, epochs = 50, verbose = 0)\n"
   ]
  },
  {
   "cell_type": "code",
   "execution_count": 8,
   "id": "87667cd1-6849-497f-a536-a0829b5090bc",
   "metadata": {},
   "outputs": [
    {
     "name": "stdout",
     "output_type": "stream",
     "text": [
      "1875/1875 - 4s - loss: 2.3026 - sparse_categorical_accuracy: 0.1000\n",
      "313/313 - 1s - loss: 2.3026 - sparse_categorical_accuracy: 0.1000\n"
     ]
    },
    {
     "data": {
      "text/plain": [
       "[2.3026394844055176, 0.10000000149011612]"
      ]
     },
     "execution_count": 8,
     "metadata": {},
     "output_type": "execute_result"
    }
   ],
   "source": [
    "\n",
    "model_1.evaluate(x_train, y_train, verbose = 2)\n",
    "model_1.evaluate(x_test, y_test, verbose = 2)"
   ]
  },
  {
   "cell_type": "markdown",
   "id": "80276056-be38-456a-8942-34d00cd8502d",
   "metadata": {},
   "source": [
    "The accuracy is 0.10"
   ]
  },
  {
   "cell_type": "code",
   "execution_count": 9,
   "id": "7faccfd8-6f90-463e-b1b8-2e0dec883dde",
   "metadata": {},
   "outputs": [
    {
     "name": "stdout",
     "output_type": "stream",
     "text": [
      "Model: \"sequential_1\"\n",
      "_________________________________________________________________\n",
      "Layer (type)                 Output Shape              Param #   \n",
      "=================================================================\n",
      "reshape (Reshape)            (None, 28, 28, 1)         0         \n",
      "_________________________________________________________________\n",
      "conv2d (Conv2D)              (None, 28, 28, 32)        320       \n",
      "_________________________________________________________________\n",
      "max_pooling2d (MaxPooling2D) (None, 5, 5, 32)          0         \n",
      "_________________________________________________________________\n",
      "flatten_1 (Flatten)          (None, 800)               0         \n",
      "_________________________________________________________________\n",
      "dense_1 (Dense)              (None, 32)                25632     \n",
      "_________________________________________________________________\n",
      "dense_2 (Dense)              (None, 10)                330       \n",
      "=================================================================\n",
      "Total params: 26,282\n",
      "Trainable params: 26,282\n",
      "Non-trainable params: 0\n",
      "_________________________________________________________________\n"
     ]
    }
   ],
   "source": [
    "model_1.summary()\n"
   ]
  },
  {
   "cell_type": "markdown",
   "id": "b06288b7-83f9-47c7-a83c-df5367ee17ac",
   "metadata": {},
   "source": [
    "- Add another four layers to the network: a convolution layer with 64 filters and a 3x3 max-pooling layer, followed by another convolution layer with 128 filters and a 3x3 max-pooling layer. Train the new network for 100 epochs and report the accuracy. <span style=\"color:red\" float:right>[5 point]</span>"
   ]
  },
  {
   "cell_type": "code",
   "execution_count": 10,
   "id": "d8c7d4b6-db98-4c27-91df-66639fc491a1",
   "metadata": {},
   "outputs": [],
   "source": [
    "## your code goes here\n",
    "model_2 = Sequential()\n",
    "model_2.add(Reshape((28, 28, 1), input_shape=(28, 28)))\n",
    "\n",
    "model_2.add(Conv2D(32, (3, 3), input_shape=(28, 28, 1), padding='same', activation='sigmoid'))\n",
    "model_2.add(MaxPooling2D(pool_size=(3, 3)))\n",
    "\n",
    "model_2.add(Conv2D(64, (3, 3), input_shape=(28, 28, 1), padding='same', activation='sigmoid'))\n",
    "model_2.add(MaxPooling2D(pool_size=(3,3)))\n",
    "\n",
    "model_2.add(Conv2D(128, (3, 3), input_shape=(28, 28, 1), padding='same', activation='sigmoid'))\n",
    "model_2.add(MaxPooling2D(pool_size=(3, 3)))\n",
    "\n",
    "\n",
    "\n",
    "model_2.add(Flatten())\n",
    "model_2.add(Dense(32, activation='relu'))\n",
    "model_2.add(Dense(10, activation = 'sigmoid'))\n"
   ]
  },
  {
   "cell_type": "code",
   "execution_count": 11,
   "id": "ff8d0398-57e9-4273-8ba8-471be6829a6e",
   "metadata": {},
   "outputs": [],
   "source": [
    "\n",
    "model_2.compile(\n",
    "    optimizer = keras.optimizers.RMSprop(learning_rate = 1e-3),\n",
    "    loss = keras.losses.SparseCategoricalCrossentropy(),\n",
    "    metrics = [keras.metrics.SparseCategoricalAccuracy()],\n",
    ")"
   ]
  },
  {
   "cell_type": "code",
   "execution_count": 12,
   "id": "7fc51b1a-877a-4404-90cb-2336694a9782",
   "metadata": {},
   "outputs": [
    {
     "data": {
      "text/plain": [
       "<tensorflow.python.keras.callbacks.History at 0x7ff1e819c130>"
      ]
     },
     "execution_count": 12,
     "metadata": {},
     "output_type": "execute_result"
    }
   ],
   "source": [
    "model_2.fit(x_train, y_train, epochs = 100, verbose = 0)\n"
   ]
  },
  {
   "cell_type": "code",
   "execution_count": 13,
   "id": "09929d4f-9f7d-4f5d-a072-4813ccf2625e",
   "metadata": {},
   "outputs": [
    {
     "name": "stdout",
     "output_type": "stream",
     "text": [
      "1875/1875 - 6s - loss: 2.3026 - sparse_categorical_accuracy: 0.1000\n",
      "313/313 - 2s - loss: 2.3026 - sparse_categorical_accuracy: 0.1000\n"
     ]
    },
    {
     "data": {
      "text/plain": [
       "[2.302640199661255, 0.10000000149011612]"
      ]
     },
     "execution_count": 13,
     "metadata": {},
     "output_type": "execute_result"
    }
   ],
   "source": [
    "\n",
    "model_2.evaluate(x_train, y_train, verbose = 2)\n",
    "model_2.evaluate(x_test, y_test, verbose = 2)"
   ]
  },
  {
   "cell_type": "markdown",
   "id": "258a730e-8032-40cb-8c5e-5a9830318289",
   "metadata": {},
   "source": [
    "The accuracy is 0.10"
   ]
  },
  {
   "cell_type": "code",
   "execution_count": 14,
   "id": "035fa997-a4b0-414b-9cd5-52fbcb42456c",
   "metadata": {},
   "outputs": [],
   "source": [
    "prediction = model_2.predict(x_test)"
   ]
  },
  {
   "cell_type": "code",
   "execution_count": 15,
   "id": "cb052734-1105-4785-aa04-7f0645a42152",
   "metadata": {},
   "outputs": [
    {
     "name": "stdout",
     "output_type": "stream",
     "text": [
      "313/313 [==============================] - 1s 4ms/step - loss: 2.3026 - sparse_categorical_accuracy: 0.1000\n",
      "Test accuracy: 0.10000000149011612\n"
     ]
    }
   ],
   "source": [
    "test_loss, test_acc = model_2.evaluate(x_test, y_test)\n",
    "\n",
    "print('Test accuracy:', test_acc)"
   ]
  },
  {
   "cell_type": "markdown",
   "id": "b3efc858-2b26-4941-832d-e95b4fe00638",
   "metadata": {},
   "source": [
    "- How many parameters did we add to the model by adding the layers in the previous step? <span style=\"color:red\" float:right>[5 point]</span>\n",
    "\n",
    "# End of assignment"
   ]
  },
  {
   "cell_type": "code",
   "execution_count": 16,
   "id": "db278476-92f1-4882-94a9-0c40e378127c",
   "metadata": {},
   "outputs": [
    {
     "name": "stdout",
     "output_type": "stream",
     "text": [
      "Model: \"sequential_2\"\n",
      "_________________________________________________________________\n",
      "Layer (type)                 Output Shape              Param #   \n",
      "=================================================================\n",
      "reshape_1 (Reshape)          (None, 28, 28, 1)         0         \n",
      "_________________________________________________________________\n",
      "conv2d_1 (Conv2D)            (None, 28, 28, 32)        320       \n",
      "_________________________________________________________________\n",
      "max_pooling2d_1 (MaxPooling2 (None, 9, 9, 32)          0         \n",
      "_________________________________________________________________\n",
      "conv2d_2 (Conv2D)            (None, 9, 9, 64)          18496     \n",
      "_________________________________________________________________\n",
      "max_pooling2d_2 (MaxPooling2 (None, 3, 3, 64)          0         \n",
      "_________________________________________________________________\n",
      "conv2d_3 (Conv2D)            (None, 3, 3, 128)         73856     \n",
      "_________________________________________________________________\n",
      "max_pooling2d_3 (MaxPooling2 (None, 1, 1, 128)         0         \n",
      "_________________________________________________________________\n",
      "flatten_2 (Flatten)          (None, 128)               0         \n",
      "_________________________________________________________________\n",
      "dense_3 (Dense)              (None, 32)                4128      \n",
      "_________________________________________________________________\n",
      "dense_4 (Dense)              (None, 10)                330       \n",
      "=================================================================\n",
      "Total params: 97,130\n",
      "Trainable params: 97,130\n",
      "Non-trainable params: 0\n",
      "_________________________________________________________________\n"
     ]
    }
   ],
   "source": [
    "model_2.summary()\n"
   ]
  },
  {
   "cell_type": "markdown",
   "id": "31b49aec-0c50-493b-be25-1417a276f705",
   "metadata": {},
   "source": [
    "##### The total of the model without the two last layers are 26,282\n",
    "##### and the Total params of the lasr model are 97,130\n",
    "##### So by adding the two layers, there will be 70,848 parameters."
   ]
  },
  {
   "cell_type": "code",
   "execution_count": null,
   "id": "65a3f8ca-8d26-42b1-ae27-4f0be9d0d1da",
   "metadata": {},
   "outputs": [],
   "source": []
  }
 ],
 "metadata": {
  "kernelspec": {
   "display_name": "Python 3 (ipykernel)",
   "language": "python",
   "name": "python3"
  },
  "language_info": {
   "codemirror_mode": {
    "name": "ipython",
    "version": 3
   },
   "file_extension": ".py",
   "mimetype": "text/x-python",
   "name": "python",
   "nbconvert_exporter": "python",
   "pygments_lexer": "ipython3",
   "version": "3.9.7"
  }
 },
 "nbformat": 4,
 "nbformat_minor": 5
}
