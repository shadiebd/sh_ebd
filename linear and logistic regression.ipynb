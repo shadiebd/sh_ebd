{
 "cells": [
  {
   "cell_type": "markdown",
   "id": "88331adf",
   "metadata": {},
   "source": [
    "#### Homework2\n",
    "#### Shadi Ebadi"
   ]
  },
  {
   "cell_type": "markdown",
   "id": "d8806864",
   "metadata": {},
   "source": [
    "Question 1.\n",
    "Hands-on Linear Regression\n",
    "In this question, you need to write a program to find the coefficients of a linear regression model for the\n",
    "dataset provided (data2.txt). Use NumPy to load the data and plot it [2 pts].\n",
    "Assume a linear model: y = w0 + w1*x. Use Python to implement the following methods to find its\n",
    "coefficients. Please follow the requirements step by step. Note: For Methods 1, 2, and 3, please\n",
    "implement the algorithms by yourself and do NOT use any function of any library to find the solutions"
   ]
  },
  {
   "cell_type": "markdown",
   "id": "b92de76a",
   "metadata": {},
   "source": [
    "Method 1: Normal equation\n",
    "[3 pts] Split the dataset into 80% for training and 20% for testing.\n",
    "Hints: You can generate a sequence having the same length as the data number. Shuffle it at random.\n",
    "Select the first 80% as the training set and the other as the testing set"
   ]
  },
  {
   "cell_type": "markdown",
   "id": "006c01b7",
   "metadata": {},
   "source": [
    "Method 2: Stochastic gradient Descent\n",
    "1. Use stochastic Gradient Descent to find the coefficients of the linear model. Plot MSE vs. iteration\n",
    "for both the training set and testing set in one figure.\n",
    "Hint: Your code should include\n",
    "1. Weights initialization. [2]\n",
    "2. A loop updating the parameters based on the gradient (See Slide 22). The termination\n",
    "conditions of the loop should at least include the maximum iteration number and the cost\n",
    "function threshold. [10]\n",
    "3. For each loop, MSE on the training and testing dataset should be calculated and stored for\n",
    "plotting. [3]\n",
    "2. Use different learning rates (using 0.001, 0.002, 0.003, 0.004, 0.005, 0.006, 0.007, 0.008, 0.009, 0.01)\n",
    "to fit the model. Determine the best learning rate."
   ]
  },
  {
   "cell_type": "markdown",
   "id": "3014ea11",
   "metadata": {},
   "source": [
    " Method 3: batch gradient descent\n",
    "Use batch gradient descent to repeat all the steps in SGD. "
   ]
  },
  {
   "cell_type": "markdown",
   "id": "a5011eb5",
   "metadata": {},
   "source": [
    "Compare the best result of SGD with that of BGD in terms of accuracy (of the testing set) and speed of\n",
    "convergence with discussion. "
   ]
  },
  {
   "cell_type": "code",
   "execution_count": 148,
   "id": "2c80d0f3",
   "metadata": {},
   "outputs": [],
   "source": [
    "#Importing the useful Libraries\n",
    "import pandas as pd\n",
    "import numpy as np\n",
    "import matplotlib.pyplot as plt\n",
    "import seaborn as sns\n",
    "import numpy.random as nr"
   ]
  },
  {
   "cell_type": "markdown",
   "id": "ea0fc40b",
   "metadata": {},
   "source": [
    "Queston1\n",
    "Method 1"
   ]
  },
  {
   "cell_type": "code",
   "execution_count": 149,
   "id": "72a43cbb",
   "metadata": {},
   "outputs": [],
   "source": [
    "#loading the data\n",
    "File_data = np.loadtxt(r\"C:\\Users\\sheba\\Desktop\\Stevens_semester1\\applied ML\\week2\\data2.txt\", delimiter=',', dtype=float)\n"
   ]
  },
  {
   "cell_type": "code",
   "execution_count": 150,
   "id": "55d22ca3",
   "metadata": {},
   "outputs": [
    {
     "data": {
      "text/plain": [
       "<matplotlib.collections.PathCollection at 0x1b8fae572b0>"
      ]
     },
     "execution_count": 150,
     "metadata": {},
     "output_type": "execute_result"
    },
    {
     "data": {
      "image/png": "[encoded data removed]",
      "text/plain": [
       "<Figure size 432x288 with 1 Axes>"
      ]
     },
     "metadata": {
      "needs_background": "light"
     },
     "output_type": "display_data"
    }
   ],
   "source": [
    "#I plot the data, and I want to fit a linear regression to this data points.\n",
    "plt.scatter(File_data[:,0], File_data[:,1])\n"
   ]
  },
  {
   "cell_type": "code",
   "execution_count": 190,
   "id": "63274136",
   "metadata": {},
   "outputs": [],
   "source": [
    "# y = w0 + w1*x\n",
    "from numpy import random\n",
    "#I used random choice, to choice data points randomly and then split the data to training and testing set\n",
    "random_row_indices = np.random.choice(File_data.shape[0], size=File_data.shape[0], replace=False)\n",
    "random_rows_unique = File_data[random_row_indices]\n"
   ]
  },
  {
   "cell_type": "code",
   "execution_count": 191,
   "id": "a4f3f263",
   "metadata": {},
   "outputs": [],
   "source": [
    "ratio=0.8 #based on the question, I split the data 80% trining set and 20% testing set\n",
    "totoal_rows=random_rows_unique.shape[0]\n",
    "training_size=int(totoal_rows*ratio)"
   ]
  },
  {
   "cell_type": "code",
   "execution_count": 174,
   "id": "2b0b1293",
   "metadata": {},
   "outputs": [
    {
     "data": {
      "text/plain": [
       "array([[ 6.3654 ,  5.3048 ],\n",
       "       [ 7.3345 ,  4.0259 ],\n",
       "       [ 5.3077 ,  1.8396 ],\n",
       "       [ 7.6031 ,  4.9981 ],\n",
       "       [14.164  , 15.505  ],\n",
       "       [ 9.1802 ,  6.7981 ],\n",
       "       [ 7.2259 ,  3.3411 ],\n",
       "       [ 6.1891 ,  3.1386 ],\n",
       "       [ 5.4069 ,  0.55657],\n",
       "       [ 6.4862 ,  6.5987 ],\n",
       "       [22.203  , 24.147  ],\n",
       "       [ 8.0959 ,  4.1164 ],\n",
       "       [10.274  ,  6.7526 ],\n",
       "       [ 5.7077 ,  1.8451 ],\n",
       "       [ 9.2482 , 12.134  ],\n",
       "       [ 8.3829 , 11.886  ],\n",
       "       [ 6.2742 ,  2.4756 ],\n",
       "       [ 7.2182 ,  4.8852 ],\n",
       "       [ 7.6366 ,  4.2959 ],\n",
       "       [ 5.7107 ,  3.2522 ],\n",
       "       [20.341  , 20.992  ],\n",
       "       [ 7.0931 ,  1.0463 ],\n",
       "       [ 7.5386 ,  3.8845 ],\n",
       "       [ 5.7292 ,  0.47953],\n",
       "       [ 6.5159 ,  5.3436 ],\n",
       "       [ 6.002  ,  0.92695],\n",
       "       [ 5.4994 ,  1.0173 ],\n",
       "       [11.7    ,  8.0043 ],\n",
       "       [11.708  ,  5.3854 ],\n",
       "       [ 6.4296 ,  3.6518 ],\n",
       "       [14.908  , 12.054  ],\n",
       "       [ 9.7687 ,  7.5435 ],\n",
       "       [ 5.0594 ,  2.8214 ],\n",
       "       [ 5.8014 ,  1.844  ],\n",
       "       [ 5.4901 ,  4.263  ],\n",
       "       [ 6.5894 ,  5.9966 ],\n",
       "       [ 8.8254 ,  5.1694 ],\n",
       "       [ 7.9334 ,  4.5623 ],\n",
       "       [ 8.2111 ,  6.5426 ],\n",
       "       [ 7.4239 ,  4.2885 ],\n",
       "       [ 5.8707 ,  7.2029 ],\n",
       "       [ 5.3054 ,  1.9869 ],\n",
       "       [ 6.3557 ,  0.67861],\n",
       "       [ 7.8247 ,  6.7318 ],\n",
       "       [ 5.1884 ,  0.20421],\n",
       "       [ 5.0546 ,  3.8166 ],\n",
       "       [ 5.0269 , -2.6807 ],\n",
       "       [10.957  ,  7.0467 ],\n",
       "       [ 5.5277 ,  9.1302 ],\n",
       "       [ 5.8918 ,  1.8495 ],\n",
       "       [ 5.3794 ,  3.5129 ],\n",
       "       [ 6.0062 ,  1.2784 ],\n",
       "       [ 5.1793 , -0.74279],\n",
       "       [10.236  ,  7.7754 ],\n",
       "       [10.136  ,  6.6799 ],\n",
       "       [ 5.5416 ,  1.0179 ],\n",
       "       [18.959  , 17.054  ],\n",
       "       [ 5.0365 ,  5.7014 ],\n",
       "       [ 6.3261 ,  5.1875 ],\n",
       "       [ 5.5649 ,  3.0825 ],\n",
       "       [ 8.4084 ,  7.2258 ],\n",
       "       [18.945  , 22.638  ],\n",
       "       [ 8.5781 , 12.     ],\n",
       "       [ 6.8825 ,  3.9115 ],\n",
       "       [ 8.2951 ,  5.7442 ],\n",
       "       [ 6.5479 ,  0.29678],\n",
       "       [ 6.3534 ,  5.4974 ],\n",
       "       [ 9.4536 ,  5.4141 ],\n",
       "       [ 8.5186 , 13.662  ],\n",
       "       [ 7.4764 ,  4.3483 ],\n",
       "       [ 8.2934 ,  0.14454],\n",
       "       [ 8.5172 ,  4.2415 ],\n",
       "       [ 6.3589 , -1.4211 ],\n",
       "       [13.176  , 14.692  ],\n",
       "       [12.836  , 10.117  ],\n",
       "       [ 5.1301 ,  0.56077],\n",
       "       [ 7.0032 , 11.854  ]])"
      ]
     },
     "execution_count": 174,
     "metadata": {},
     "output_type": "execute_result"
    }
   ],
   "source": [
    "training_data=random_rows_unique[0:training_size]\n",
    "testing_data=random_rows_unique[training_size:]\n",
    "training_data"
   ]
  },
  {
   "cell_type": "code",
   "execution_count": 164,
   "id": "64581be2",
   "metadata": {},
   "outputs": [
    {
     "data": {
      "text/plain": [
       "(77, 2)"
      ]
     },
     "execution_count": 164,
     "metadata": {},
     "output_type": "execute_result"
    }
   ],
   "source": [
    "training_data.shape"
   ]
  },
  {
   "cell_type": "code",
   "execution_count": 170,
   "id": "9255f8c0",
   "metadata": {},
   "outputs": [
    {
     "data": {
      "text/plain": [
       "(77,)"
      ]
     },
     "execution_count": 170,
     "metadata": {},
     "output_type": "execute_result"
    }
   ],
   "source": [
    "X=training_data[:,0]\n",
    "X.shape"
   ]
  },
  {
   "cell_type": "code",
   "execution_count": 180,
   "id": "ca85261d",
   "metadata": {},
   "outputs": [
    {
     "name": "stdout",
     "output_type": "stream",
     "text": [
      "Intercept (w0): -4.479991628841214\n",
      "Slope (w1): 1.2543221605003505\n"
     ]
    }
   ],
   "source": [
    "#In the first question, I used the  normal equation to find the coeffients of the linear regression\n",
    "#y = w0 + w1*x\n",
    "#teta=(xT X)^-1 xT y\n",
    "y=training_data[:,1]  \n",
    "X=training_data[:,0]\n",
    "X = X.reshape(-1, 1) \n",
    "X_augmented = np.hstack((np.ones((X.shape[0], 1)), X))\n",
    "\n",
    "\n",
    "\n",
    "#these are the element that will be used for in the teta=(xT X)^-1 xT y for finding teta (coeffients)\n",
    "\n",
    "X_transpose=np.transpose(X_augmented)\n",
    "\n",
    "A=np.matmul(X_transpose, X_augmented)\n",
    "\n",
    "Inverse = np.linalg.inv(A) \n",
    "\n",
    "B=np.matmul(Inverse, X_transpose)\n",
    "\n",
    "C=np.matmul(B, y)\n",
    "\n",
    "w0, w1 = C[0], C[1] # these are the coeffients of the linear reggresion\n",
    "print(f\"Intercept (w0): {w0}\")\n",
    "print(f\"Slope (w1): {w1}\")"
   ]
  },
  {
   "cell_type": "code",
   "execution_count": 181,
   "id": "d1f77347",
   "metadata": {},
   "outputs": [
    {
     "data": {
      "image/png": "[encoded data removed]",
      "text/plain": [
       "<Figure size 432x288 with 1 Axes>"
      ]
     },
     "metadata": {
      "needs_background": "light"
     },
     "output_type": "display_data"
    }
   ],
   "source": [
    "plt.scatter(X, y, color='blue', label='Training data')\n",
    "plt.plot(X, w0 + w1 * X, color='red', label='Fitted line')\n",
    "plt.xlabel('X')\n",
    "plt.ylabel('y')\n",
    "plt.title('Linear Regression Fit')\n",
    "plt.legend()\n",
    "plt.show()"
   ]
  },
  {
   "cell_type": "markdown",
   "id": "af1e325b",
   "metadata": {},
   "source": [
    "Queston1\n",
    "Method 2"
   ]
  },
  {
   "cell_type": "markdown",
   "id": "f3f06576",
   "metadata": {},
   "source": [
    "Method 2: Stochastic gradient Descent\n",
    "\n",
    "Use stochastic Gradient Descent to find the coefficients of the linear model. Plot MSE vs. iteration for both the training set and testing set in one figure. Hint: Your code should include\n",
    "Weights initialization. [2]\n",
    "A loop updating the parameters based on the gradient (See Slide 22). The termination conditions of the loop should at least include the maximum iteration number and the cost function threshold. [10]\n",
    "For each loop, MSE on the training and testing dataset should be calculated and stored for plotting. [3]\n",
    "Use different learning rates (using 0.001, 0.002, 0.003, 0.004, 0.005, 0.006, 0.007, 0.008, 0.009, 0.01) to fit the model. Determine the best learning rate."
   ]
  },
  {
   "cell_type": "code",
   "execution_count": 239,
   "id": "d360dbb5",
   "metadata": {},
   "outputs": [
    {
     "data": {
      "image/png": "[encoded data removed]",
      "text/plain": [
       "<Figure size 432x288 with 1 Axes>"
      ]
     },
     "metadata": {
      "needs_background": "light"
     },
     "output_type": "display_data"
    }
   ],
   "source": [
    "\n",
    "training_data=random_rows_unique[0:training_size]\n",
    "testing_data=random_rows_unique[training_size:]\n",
    "\n",
    "ratio=0.8\n",
    "total_rows=random_rows_unique.shape[0]\n",
    "training_size=int(total_rows*ratio)\n",
    "\n",
    "training_data=random_rows_unique[0:training_size]\n",
    "testing_data=random_rows_unique[training_size:]\n",
    "\n",
    "\n",
    "import matplotlib.pyplot as plt\n",
    "\n",
    "from sklearn.metrics import mean_squared_error \n",
    "\n",
    "\n",
    "total_rows=training_data.shape[0]\n",
    "total_columns=training_data.shape[1]\n",
    "\n",
    "\n",
    "training_data=random_rows_unique[0:training_size]\n",
    "testing_data=random_rows_unique[training_size:]\n",
    "#Weights initialization\n",
    "w0=0.1\n",
    "w1=0.3\n",
    "\n",
    "MSE_train_sgd=[] # empty list for finding MSE and then plotting them against learning rate\n",
    "MSE_test_sgd=[]\n",
    "learning_rate=[0.001, 0.002, 0.003, 0.004, 0.005, 0.006, 0.007, 0.008, 0.009, 0.01]\n",
    "\n",
    "for j  in learning_rate: # I used two loops. One for the different learning rate and one for moving across the rows. Because in \n",
    "                         #Stochastic Gradient, I only used one sample in each iteration.\n",
    "  \n",
    "    for i in range(total_rows): # I wrote this for Stochastic Gradient. Because I only used one sample in each iteratio\n",
    "        \n",
    "        x_i = training_data[i][0]\n",
    "        y_i = training_data[i][1]\n",
    "    \n",
    "        h = w0 + w1*(x_i) # h is the prediction and then I computed the w0 and w1 in the loop.\n",
    "        \n",
    "        w0 = w0 + j*( y_i-h)\n",
    "        w1 = w1 + j*( y_i-h)*(x_i)\n",
    "        \n",
    "        \n",
    "    Y_pred_train=w0+w1*training_data[:,0] #after finding the w0 and w1, I computed the y_predction and computed the MSE for \n",
    "    #both training and testing set. \n",
    "        \n",
    "    MSE_training=mean_squared_error(training_data[:,1],Y_pred_train)\n",
    "        \n",
    "    MSE_train_sgd.append(MSE_training)  \n",
    "        \n",
    "    #mse_testing_data\n",
    "    \n",
    "    Y_true_test=testing_data[:,1]\n",
    "     \n",
    "    Y_pred_test=w0 + w1*testing_data[:,0]\n",
    "    MSE_testing=mean_squared_error(Y_true_test,Y_pred_test)\n",
    "    MSE_test_sgd.append(MSE_testing)\n",
    "\n",
    "\n",
    "Y_pred_test\n",
    "plt.plot(learning_rate,MSE_train_sgd, label='training') # I plot the MSE against the learning rate.\n",
    "plt.plot(learning_rate,MSE_test_sgd, label='testing')\n",
    "plt.xlabel('Learning Rate')\n",
    "plt.ylabel('MSE')\n",
    "plt.title('Linear Regression Fit with SGD')\n",
    "plt.legend()\n",
    "plt.show()\n",
    "#Based on the result, the mse for both set in decreasing."
   ]
  },
  {
   "cell_type": "code",
   "execution_count": 261,
   "id": "c2ed9865",
   "metadata": {},
   "outputs": [
    {
     "data": {
      "text/plain": [
       "0.01"
      ]
     },
     "execution_count": 261,
     "metadata": {},
     "output_type": "execute_result"
    }
   ],
   "source": [
    "#The best MSE and learning rate\n",
    "best_mse_train = np.min(MSE_train_sgd) \n",
    "best_mse_test = np.min(MSE_test_sgd) \n",
    "best_learning_rate_test = learning_rate[np.argmin(MSE_test_sgd)]  # Learning rate corresponding to best testing MSE\n",
    "best_learning_rate_test"
   ]
  },
  {
   "cell_type": "code",
   "execution_count": null,
   "id": "f390e1b9",
   "metadata": {},
   "outputs": [],
   "source": []
  },
  {
   "cell_type": "code",
   "execution_count": 217,
   "id": "f4827e67",
   "metadata": {},
   "outputs": [],
   "source": [
    "ratio=0.8\n",
    "total_rows=random_rows_unique.shape[0]\n",
    "training_size=int(totoal_rows*ratio)"
   ]
  },
  {
   "cell_type": "markdown",
   "id": "55b17d43",
   "metadata": {},
   "source": [
    "Method 3: batch gradient descent Use batch gradient descent to repeat all the steps in SGD.\n",
    "\n",
    "Compare the best result of SGD with that of BGD in terms of accuracy (of the testing set) and speed of convergence with discussion."
   ]
  },
  {
   "cell_type": "code",
   "execution_count": 240,
   "id": "e0def736",
   "metadata": {},
   "outputs": [
    {
     "data": {
      "text/plain": [
       "<matplotlib.legend.Legend at 0x1b8fc890760>"
      ]
     },
     "execution_count": 240,
     "metadata": {},
     "output_type": "execute_result"
    },
    {
     "data": {
      "image/png": "[encoded data removed]",
      "text/plain": [
       "<Figure size 432x288 with 1 Axes>"
      ]
     },
     "metadata": {
      "needs_background": "light"
     },
     "output_type": "display_data"
    }
   ],
   "source": [
    "#Weights initialization.\n",
    "import matplotlib.pyplot as plt\n",
    "\n",
    "from sklearn.metrics import mean_squared_error \n",
    "\n",
    "\n",
    "total_rows=training_data.shape[0]\n",
    "total_columns=training_data.shape[1]\n",
    "\n",
    "\n",
    "training_data=random_rows_unique[0:training_size]\n",
    "testing_data=random_rows_unique[training_size:]\n",
    "#Here, in the batch gradient descent, I used the whole date set for every iteration for finding the w0 and w1\n",
    "#Then, by finding the w0 and w1, I computed the y_pred and computed the MSE.\n",
    "\n",
    "MSE_train_bgd=[]\n",
    "MSE_test_bgd=[]\n",
    "learning_rate=[0.001, 0.002, 0.003, 0.004, 0.005, 0.006, 0.007, 0.008, 0.009, 0.01]\n",
    "\n",
    "\n",
    "\n",
    "for j  in learning_rate:\n",
    "    sum_error_w0 = 0.001 #I put these parameters in the loop, becuase I wanted every loop over learning rate satrt from same \n",
    "                        #initialization values\n",
    "    sum_error_w1 = 0.002\n",
    "    \n",
    "    for i in range(total_rows): \n",
    "        \n",
    "        x_i = training_data[i][0]\n",
    "        y_i = training_data[i][1]\n",
    "    \n",
    "        h = w0 + w1*(x_i)\n",
    "        error=y_i-h\n",
    "        sum_error_w0=sum_error_w0+error\n",
    "        sum_error_w1=sum_error_w1+(error*x_i)\n",
    "        \n",
    "        \n",
    "    w0 = w0 +j*(sum_error_w0/total_rows)\n",
    "    w1 = w1 +j*(sum_error_w1/total_rows)\n",
    "        \n",
    "        \n",
    "        \n",
    "    Y_pred_train=w0+w1*training_data[:,0]\n",
    "        \n",
    "    MSE_training=mean_squared_error(training_data[:,1],Y_pred_train)\n",
    "        \n",
    "    MSE_train_bgd.append(MSE_training)  \n",
    "        \n",
    "    #mse_testing_data\n",
    "    \n",
    "    Y_true_test=testing_data[:,1]\n",
    "     \n",
    "    Y_pred_test=w0 + w1*testing_data[:,0]\n",
    "    MSE_testing=mean_squared_error(Y_true_test,Y_pred_test)\n",
    "    MSE_test_bgd.append(MSE_testing)\n",
    "\n",
    "\n",
    "plt.plot(learning_rate,MSE_train_bgd, label='training')\n",
    "plt.plot(learning_rate,MSE_test_bgd, label='testing')\n",
    "plt.xlabel('Learning Rate')\n",
    "plt.ylabel('MSE')\n",
    "plt.title('Linear Regression Fit with BGD')\n",
    "plt.legend()\n",
    "#Based on the results, the MSE is decreasing."
   ]
  },
  {
   "cell_type": "code",
   "execution_count": 262,
   "id": "4c61a0e3",
   "metadata": {},
   "outputs": [
    {
     "data": {
      "text/plain": [
       "0.01"
      ]
     },
     "execution_count": 262,
     "metadata": {},
     "output_type": "execute_result"
    }
   ],
   "source": [
    "#The best MSE and learning rate\n",
    "best_mse_train_1 = np.min(MSE_train_bgd) \n",
    "best_mse_test_1 = np.min(MSE_test_bgd) \n",
    "best_learning_rate_test = learning_rate[np.argmin(MSE_test_bgd)]  # Learning rate corresponding to best testing MSE\n",
    "best_learning_rate_test"
   ]
  },
  {
   "cell_type": "code",
   "execution_count": 237,
   "id": "cf378209",
   "metadata": {},
   "outputs": [
    {
     "data": {
      "image/png": "[encoded data removed]",
      "text/plain": [
       "<Figure size 432x288 with 1 Axes>"
      ]
     },
     "metadata": {
      "needs_background": "light"
     },
     "output_type": "display_data"
    }
   ],
   "source": [
    "#Comparison of SGD and BGD\n",
    "\n",
    "plt.plot(learning_rate, MSE_train_sgd, label='SGD Training MSE', color='blue', linestyle='--')\n",
    "plt.plot(learning_rate, MSE_test_sgd, label='SGD Testing MSE', color='blue')\n",
    "\n",
    "plt.plot(learning_rate, MSE_train_bgd, label='BGD Training MSE', color='red', linestyle='--')\n",
    "plt.plot(learning_rate, MSE_test_bgd, label='BGD Testing MSE', color='red')\n",
    "\n",
    "plt.xlabel('Learning Rate')\n",
    "plt.ylabel('MSE')\n",
    "plt.title('Comparison of SGD and BGD')\n",
    "plt.legend()\n",
    "plt.show()"
   ]
  },
  {
   "cell_type": "markdown",
   "id": "46eb687f",
   "metadata": {},
   "source": [
    "Compare the best result of SGD with that of BGD in terms of accuracy (of the testing set) and speed of\n",
    "convergence with discussion. "
   ]
  },
  {
   "cell_type": "markdown",
   "id": "c186e2fd",
   "metadata": {},
   "source": [
    "##### Based on the result, the BGD has lower mse which shows better generalization performance.\n",
    "##### SGD has higher MSE. becuase it uses one example of data in each iteration which will resulting in \n",
    "##### deviating from the global minimum when the loss function is minimizing.\n",
    "##### SGD converges faster. Because it uses one sample each time. BGD is lower but more stable."
   ]
  },
  {
   "cell_type": "markdown",
   "id": "b2b3a808",
   "metadata": {},
   "source": [
    "Question 2 Logistic Regression Practice [15 pts, 5 pts for each sub-question]\n",
    "In this part, you will face a real-world dataset, and use Logistic Regression to make the classification.\n",
    "\n",
    "\n",
    "1) Step 1: Download and read the data. Split the dataset and apply Logistic Regression to classify\n",
    "different categories.\n",
    "You need to download the file from the link. Recall the code in the Question 1. Please load the data\n",
    "and split the training set and the testing set.\n",
    "Scikit Learn is the most used machine learning package. Use the\n",
    "sklearn.linear_model.LogisticRegression to make the classification. You can refer to the doc to check\n",
    "the function’s parameters and see one example.\n",
    "\n",
    "\n",
    "\n",
    "2) Step2 Logistic Regression with penalty item\n",
    "Find the optimal lambda of logistic regression with l1 and l2 norm penalty with the function\n",
    "sklearn.linear_model.LogisticRegressionCV.\n",
    "3) Compare the results of these models in terms of accuracy, and feature number. Try to analyze\n",
    "and give insights into the data by the models.\n"
   ]
  },
  {
   "cell_type": "code",
   "execution_count": 96,
   "id": "611904cd",
   "metadata": {},
   "outputs": [],
   "source": [
    "import pandas as pd\n",
    "import numpy as np\n",
    "from sklearn.model_selection import train_test_split\n",
    "# Load the dataset\n",
    "df = pd.read_csv(r'C:\\Users\\sheba\\Desktop\\Stevens_semester1\\applied ML\\week2\\breast+cancer+wisconsin+diagnostic\\wdbc.data', header=None)\n"
   ]
  },
  {
   "cell_type": "code",
   "execution_count": 246,
   "id": "c56ad3aa",
   "metadata": {
    "scrolled": true
   },
   "outputs": [],
   "source": [
    "df.columns = df.columns.astype(str)\n",
    "column_names = ['ID', 'Diagnosis', \n",
    "                'Mean Radius', 'Mean Texture', 'Mean Perimeter', 'Mean Area', 'Mean Smoothness', \n",
    "                'Mean Compactness', 'Mean Concavity', 'Mean Concave Points', 'Mean Symmetry', \n",
    "                'Mean Fractal Dimension', 'Radius SE', 'Texture SE', 'Perimeter SE', 'Area SE', \n",
    "                'Smoothness SE', 'Compactness SE', 'Concavity SE', 'Concave Points SE', 'Symmetry SE', \n",
    "                'Fractal Dimension SE', 'Worst Radius', 'Worst Texture', 'Worst Perimeter', 'Worst Area', \n",
    "                'Worst Smoothness', 'Worst Compactness', 'Worst Concavity', 'Worst Concave Points', \n",
    "                'Worst Symmetry', 'Worst Fractal Dimension']\n",
    "\n",
    "df.columns = column_names\n"
   ]
  },
  {
   "cell_type": "code",
   "execution_count": 247,
   "id": "d1898366",
   "metadata": {},
   "outputs": [],
   "source": [
    "X = df.drop(labels=['Diagnosis'], axis=1)\n",
    "y = df['Diagnosis']\n"
   ]
  },
  {
   "cell_type": "code",
   "execution_count": 248,
   "id": "5e63e408",
   "metadata": {},
   "outputs": [],
   "source": [
    "X_train, X_test, y_train, y_test = train_test_split(\n",
    "  X,y , random_state=104,test_size=0.25, shuffle=True)"
   ]
  },
  {
   "cell_type": "code",
   "execution_count": 249,
   "id": "7342b6f0",
   "metadata": {},
   "outputs": [],
   "source": [
    "clf = LogisticRegression(random_state=0).fit(X_train, y_train)\n"
   ]
  },
  {
   "cell_type": "code",
   "execution_count": 250,
   "id": "5bad5f2a",
   "metadata": {},
   "outputs": [],
   "source": [
    "y_predict = clf.predict(X_test)\n"
   ]
  },
  {
   "cell_type": "code",
   "execution_count": 117,
   "id": "2fe94e03",
   "metadata": {},
   "outputs": [],
   "source": [
    "from sklearn import metrics\n"
   ]
  },
  {
   "cell_type": "code",
   "execution_count": 251,
   "id": "1df7eb57",
   "metadata": {},
   "outputs": [
    {
     "data": {
      "text/plain": [
       "array([[ 1, 86],\n",
       "       [ 0, 56]], dtype=int64)"
      ]
     },
     "execution_count": 251,
     "metadata": {},
     "output_type": "execute_result"
    }
   ],
   "source": [
    "confusion_matrix = metrics.confusion_matrix(y_test, y_predict)\n",
    "confusion_matrix"
   ]
  },
  {
   "cell_type": "code",
   "execution_count": 123,
   "id": "f4f2edc9",
   "metadata": {},
   "outputs": [],
   "source": [
    "from sklearn.metrics import classification_report\n"
   ]
  },
  {
   "cell_type": "code",
   "execution_count": 252,
   "id": "7b46b053",
   "metadata": {},
   "outputs": [
    {
     "name": "stdout",
     "output_type": "stream",
     "text": [
      "              precision    recall  f1-score   support\n",
      "\n",
      "     benigns       1.00      0.01      0.02        87\n",
      "   malignant       0.39      1.00      0.57        56\n",
      "\n",
      "    accuracy                           0.40       143\n",
      "   macro avg       0.70      0.51      0.29       143\n",
      "weighted avg       0.76      0.40      0.24       143\n",
      "\n"
     ]
    }
   ],
   "source": [
    "target_names = ['benigns', 'malignant']\n",
    "print(classification_report(y_test, y_predict, target_names=target_names))\n"
   ]
  },
  {
   "cell_type": "markdown",
   "id": "9f0c99d1",
   "metadata": {},
   "source": [
    "Step2 Logistic Regression with penalty item Find the optimal lambda of logistic regression with l1 and l2 norm penalty with the function sklearn.linear_model.LogisticRegressionCV."
   ]
  },
  {
   "cell_type": "code",
   "execution_count": 253,
   "id": "b10980fa",
   "metadata": {},
   "outputs": [
    {
     "name": "stderr",
     "output_type": "stream",
     "text": [
      "C:\\Users\\sheba\\anaconda3\\lib\\site-packages\\sklearn\\svm\\_base.py:1250: ConvergenceWarning: Liblinear failed to converge, increase the number of iterations.\n",
      "  warnings.warn(\n",
      "C:\\Users\\sheba\\anaconda3\\lib\\site-packages\\sklearn\\svm\\_base.py:1250: ConvergenceWarning: Liblinear failed to converge, increase the number of iterations.\n",
      "  warnings.warn(\n",
      "C:\\Users\\sheba\\anaconda3\\lib\\site-packages\\sklearn\\svm\\_base.py:1250: ConvergenceWarning: Liblinear failed to converge, increase the number of iterations.\n",
      "  warnings.warn(\n",
      "C:\\Users\\sheba\\anaconda3\\lib\\site-packages\\sklearn\\svm\\_base.py:1250: ConvergenceWarning: Liblinear failed to converge, increase the number of iterations.\n",
      "  warnings.warn(\n",
      "C:\\Users\\sheba\\anaconda3\\lib\\site-packages\\sklearn\\svm\\_base.py:1250: ConvergenceWarning: Liblinear failed to converge, increase the number of iterations.\n",
      "  warnings.warn(\n",
      "C:\\Users\\sheba\\anaconda3\\lib\\site-packages\\sklearn\\svm\\_base.py:1250: ConvergenceWarning: Liblinear failed to converge, increase the number of iterations.\n",
      "  warnings.warn(\n",
      "C:\\Users\\sheba\\anaconda3\\lib\\site-packages\\sklearn\\svm\\_base.py:1250: ConvergenceWarning: Liblinear failed to converge, increase the number of iterations.\n",
      "  warnings.warn(\n"
     ]
    },
    {
     "data": {
      "text/plain": [
       "166.81005372000558"
      ]
     },
     "execution_count": 253,
     "metadata": {},
     "output_type": "execute_result"
    }
   ],
   "source": [
    "from sklearn.linear_model import LogisticRegressionCV\n",
    "\n",
    "model = LogisticRegressionCV(Cs=10, cv=5, random_state=0, penalty='l1', solver='liblinear').fit(X_train, y_train)\n",
    "\n",
    "best_C = model.C_[0]\n",
    "best_C"
   ]
  },
  {
   "cell_type": "code",
   "execution_count": 254,
   "id": "bdf694b0",
   "metadata": {},
   "outputs": [],
   "source": [
    "y_predict_cv = model.predict(X_test)\n"
   ]
  },
  {
   "cell_type": "code",
   "execution_count": 255,
   "id": "2c42d70a",
   "metadata": {},
   "outputs": [
    {
     "name": "stdout",
     "output_type": "stream",
     "text": [
      "              precision    recall  f1-score   support\n",
      "\n",
      "     benigns       0.98      0.97      0.97        87\n",
      "   malignant       0.95      0.96      0.96        56\n",
      "\n",
      "    accuracy                           0.97       143\n",
      "   macro avg       0.96      0.96      0.96       143\n",
      "weighted avg       0.97      0.97      0.97       143\n",
      "\n"
     ]
    }
   ],
   "source": [
    "target_names = ['benigns', 'malignant']\n",
    "print(classification_report(y_test, y_predict_cv, target_names=target_names))\n"
   ]
  },
  {
   "cell_type": "markdown",
   "id": "33a553fc",
   "metadata": {},
   "source": [
    "The first model( logistic regression) has lower accuracy (40%) and it could not detect benign cases. which is not good\n",
    "However,The The overall accuracy of 97% shows a significant improvement for logistic regression with l1 and l2 norm penalty shows better performance. It detects more true positves.\n",
    "and the model performs very well for both classes ( Benign and malignant)."
   ]
  },
  {
   "cell_type": "code",
   "execution_count": null,
   "id": "85fc6aa2",
   "metadata": {},
   "outputs": [],
   "source": []
  }
 ],
 "metadata": {
  "kernelspec": {
   "display_name": "Python 3 (ipykernel)",
   "language": "python",
   "name": "python3"
  },
  "language_info": {
   "codemirror_mode": {
    "name": "ipython",
    "version": 3
   },
   "file_extension": ".py",
   "mimetype": "text/x-python",
   "name": "python",
   "nbconvert_exporter": "python",
   "pygments_lexer": "ipython3",
   "version": "3.9.7"
  }
 },
 "nbformat": 4,
 "nbformat_minor": 5
}
